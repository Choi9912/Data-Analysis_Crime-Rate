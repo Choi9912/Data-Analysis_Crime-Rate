{
 "cells": [
  {
   "cell_type": "markdown",
   "id": "e73c1102",
   "metadata": {},
   "source": [
    "# 경찰초소 지도표시"
   ]
  },
  {
   "cell_type": "markdown",
   "id": "faa752dd",
   "metadata": {},
   "source": [
    "# 기준\n",
    "\n",
    "## 성인 남성 평균속도 \n",
    "\n",
    "### 성인 남성의 평균 속도는 1시간에 5km이다. (구글 검색 자료)\n",
    "\n",
    "5km = 5000m  \n",
    "5000m / 60(분) = 83.333.... -> 평균 남자 1분에 83m를 걷는다.  \n",
    "약 250m를 도착하는 시간은 3분  \n",
    "\n",
    "범죄가 일어나기전 사전에 범죄가 일어나기전 출동시간을 위해 평균3분으로 잡고 경찰초소를 배치합니다."
   ]
  },
  {
   "cell_type": "code",
   "execution_count": 1,
   "id": "58e6605c",
   "metadata": {},
   "outputs": [],
   "source": [
    "#folium.Circle([36.994053, 127.096884],popup = '경찰초소', tooltip='경찰초소 1', radius = 250).add_to(map_osm)\n",
    "#folium.Circle([36.992431, 127.101736],popup = '경찰초소', tooltip='경찰초소 2', radius = 250).add_to(map_osm)\n",
    "#folium.Circle([36.992668, 127.106712],popup = '경찰초소', tooltip='경찰초소 3', radius = 600).add_to(map_osm)\n",
    "#folium.Circle([36.992309, 127.111858],popup = '경찰초소', tooltip='경찰초소 4', radius = 250).add_to(map_osm)\n",
    "#folium.Circle([36.996480, 127.109310],popup = '경찰초소', tooltip='경찰초소 6', radius = 250).add_to(map_osm)\n",
    "#folium.Circle([36.997120, 127.113214],popup = '경찰초소', tooltip='경찰초소 7', radius = 250).add_to(map_osm)\n",
    "\n",
    "#folium.CircleMarker( location =[36.992668, 127.106712] , tooltip = '3', radius = 2 ).add_to(map_osm)"
   ]
  },
  {
   "cell_type": "code",
   "execution_count": 2,
   "id": "74e76a9b",
   "metadata": {},
   "outputs": [
    {
     "ename": "NameError",
     "evalue": "name 'geo_data' is not defined",
     "output_type": "error",
     "traceback": [
      "\u001b[1;31m---------------------------------------------------------------------------\u001b[0m",
      "\u001b[1;31mNameError\u001b[0m                                 Traceback (most recent call last)",
      "Cell \u001b[1;32mIn [2], line 28\u001b[0m\n\u001b[0;32m     25\u001b[0m folium\u001b[38;5;241m.\u001b[39mCircleMarker( location \u001b[38;5;241m=\u001b[39m[\u001b[38;5;241m37.000412\u001b[39m, \u001b[38;5;241m127.113215\u001b[39m] , tooltip \u001b[38;5;241m=\u001b[39m \u001b[38;5;124m'\u001b[39m\u001b[38;5;124m4\u001b[39m\u001b[38;5;124m'\u001b[39m, radius \u001b[38;5;241m=\u001b[39m \u001b[38;5;241m2\u001b[39m )\u001b[38;5;241m.\u001b[39madd_to(map_osm)\n\u001b[0;32m     26\u001b[0m folium\u001b[38;5;241m.\u001b[39mCircleMarker( location \u001b[38;5;241m=\u001b[39m[\u001b[38;5;241m36.992891\u001b[39m, \u001b[38;5;241m127.113410\u001b[39m] , tooltip \u001b[38;5;241m=\u001b[39m \u001b[38;5;124m'\u001b[39m\u001b[38;5;124m5\u001b[39m\u001b[38;5;124m'\u001b[39m, radius \u001b[38;5;241m=\u001b[39m \u001b[38;5;241m2\u001b[39m )\u001b[38;5;241m.\u001b[39madd_to(map_osm)\n\u001b[1;32m---> 28\u001b[0m folium\u001b[38;5;241m.\u001b[39mChoropleth(geo_data\u001b[38;5;241m=\u001b[39m\u001b[43mgeo_data\u001b[49m,fill_color\u001b[38;5;241m=\u001b[39m\u001b[38;5;124m'\u001b[39m\u001b[38;5;124mwhite\u001b[39m\u001b[38;5;124m'\u001b[39m,opacity \u001b[38;5;241m=\u001b[39m \u001b[38;5;241m0.1\u001b[39m)\u001b[38;5;241m.\u001b[39madd_to(map_osm)\n\u001b[0;32m     30\u001b[0m map_osm\n",
      "\u001b[1;31mNameError\u001b[0m: name 'geo_data' is not defined"
     ]
    }
   ],
   "source": [
    "import pandas as pd\n",
    "import folium\n",
    "from folium.plugins import MarkerCluster\n",
    "\n",
    "map_osm = folium.Map(location=[36.993955883067, 127.10848409658], zoom_start=15)\n",
    "#radius - m이다\n",
    "\n",
    "#경찰초소에 따른 범위 표시\n",
    "folium.Circle([36.99621958, 127.1029187],popup = '경찰서',color = 'red', tooltip='평택 경찰서 비전', radius = 600).add_to(map_osm)\n",
    "folium.Circle([36.994675, 127.091153],popup = '경찰서',color = 'red' ,tooltip='평택 경찰서', radius = 600).add_to(map_osm)\n",
    "\n",
    "folium.Circle([37.002019, 127.09207],popup = '경찰초소', tooltip='경찰초소 1', radius = 600).add_to(map_osm)\n",
    "folium.Circle([37.007421, 127.105195],popup = '경찰초소', tooltip='경찰초소 2', radius = 600).add_to(map_osm)\n",
    "folium.Circle([36.999277, 127.113599],popup = '경찰초소', tooltip='경찰초소 3', radius = 600).add_to(map_osm)\n",
    "folium.Circle([36.992891, 127.113410],popup = '경찰초소', tooltip='경찰초소 4', radius = 600).add_to(map_osm)\n",
    "folium.Circle([37.002034, 127.100899],popup = '경찰초소', tooltip='경찰초소 5', radius = 600).add_to(map_osm)\n",
    "\n",
    "#경찰초소 표시\n",
    "folium.CircleMarker( location =[36.99621958, 127.1029187] , tooltip = '평택 경찰서 비전', radius = 2 ).add_to(map_osm)\n",
    "folium.CircleMarker( location =[36.994675, 127.091153] , tooltip = '평택 경찰서', radius = 2 ).add_to(map_osm)\n",
    "\n",
    "folium.CircleMarker( location =[37.002019, 127.09207] , tooltip = '1', radius = 2 ).add_to(map_osm)\n",
    "folium.CircleMarker( location =[37.002034, 127.100899] , tooltip = '2', radius = 2 ).add_to(map_osm)\n",
    "folium.CircleMarker( location =[37.007421, 127.105195] , tooltip = '3', radius = 2 ).add_to(map_osm)\n",
    "folium.CircleMarker( location =[37.000412, 127.113215] , tooltip = '4', radius = 2 ).add_to(map_osm)\n",
    "folium.CircleMarker( location =[36.992891, 127.113410] , tooltip = '5', radius = 2 ).add_to(map_osm)\n",
    "\n",
    "folium.Choropleth(geo_data=geo_data,fill_color='white',opacity = 0.1).add_to(map_osm)\n",
    "\n",
    "map_osm"
   ]
  },
  {
   "cell_type": "markdown",
   "id": "59b1e018",
   "metadata": {},
   "source": [
    "\n",
    "\n",
    "# 경찰 평균 도착 시간\n",
    "### 연도별 접수건수에 대한 출동건수와 그것에 대한 출동시간"
   ]
  },
  {
   "cell_type": "code",
   "execution_count": 8,
   "id": "3133877c",
   "metadata": {},
   "outputs": [],
   "source": [
    "import seaborn as sns\n",
    "import pandas as pd\n",
    "import numpy as np\n",
    "import matplotlib.pyplot as plt\n",
    "from matplotlib import font_manager, rc\n",
    "font_path = \"C:/Windows/Fonts/NGULIM.TTF\"\n",
    "font = font_manager.FontProperties(fname=font_path).get_name()\n",
    "rc('font', family=font)"
   ]
  },
  {
   "cell_type": "code",
   "execution_count": 9,
   "id": "1ffb6b88",
   "metadata": {},
   "outputs": [
    {
     "data": {
      "text/html": [
       "<div>\n",
       "<style scoped>\n",
       "    .dataframe tbody tr th:only-of-type {\n",
       "        vertical-align: middle;\n",
       "    }\n",
       "\n",
       "    .dataframe tbody tr th {\n",
       "        vertical-align: top;\n",
       "    }\n",
       "\n",
       "    .dataframe thead th {\n",
       "        text-align: right;\n",
       "    }\n",
       "</style>\n",
       "<table border=\"1\" class=\"dataframe\">\n",
       "  <thead>\n",
       "    <tr style=\"text-align: right;\">\n",
       "      <th></th>\n",
       "      <th>연도별</th>\n",
       "      <th>2010</th>\n",
       "      <th>2011</th>\n",
       "      <th>2012</th>\n",
       "      <th>2013</th>\n",
       "      <th>2014</th>\n",
       "      <th>2015</th>\n",
       "      <th>2016</th>\n",
       "      <th>2017</th>\n",
       "      <th>2018</th>\n",
       "      <th>2019</th>\n",
       "      <th>2020</th>\n",
       "      <th>2021</th>\n",
       "    </tr>\n",
       "  </thead>\n",
       "  <tbody>\n",
       "    <tr>\n",
       "      <th>0</th>\n",
       "      <td>신고접수건수</td>\n",
       "      <td>8564</td>\n",
       "      <td>9951</td>\n",
       "      <td>11772</td>\n",
       "      <td>19115</td>\n",
       "      <td>18778</td>\n",
       "      <td>19104</td>\n",
       "      <td>19567</td>\n",
       "      <td>18953</td>\n",
       "      <td>18730</td>\n",
       "      <td>18976</td>\n",
       "      <td>18296</td>\n",
       "      <td>18710</td>\n",
       "    </tr>\n",
       "    <tr>\n",
       "      <th>1</th>\n",
       "      <td>증감율(%)</td>\n",
       "      <td>9.9</td>\n",
       "      <td>16.2</td>\n",
       "      <td>18.3</td>\n",
       "      <td>62.4</td>\n",
       "      <td>-1.8</td>\n",
       "      <td>1.7</td>\n",
       "      <td>2.4</td>\n",
       "      <td>-3.1</td>\n",
       "      <td>-1.2</td>\n",
       "      <td>1.3</td>\n",
       "      <td>-3.5</td>\n",
       "      <td>2.3</td>\n",
       "    </tr>\n",
       "    <tr>\n",
       "      <th>2</th>\n",
       "      <td>총 출동건수</td>\n",
       "      <td>6751</td>\n",
       "      <td>7116</td>\n",
       "      <td>7882</td>\n",
       "      <td>9344</td>\n",
       "      <td>10387</td>\n",
       "      <td>10719</td>\n",
       "      <td>10701</td>\n",
       "      <td>10539</td>\n",
       "      <td>10452</td>\n",
       "      <td>10703</td>\n",
       "      <td>10288</td>\n",
       "      <td>10512</td>\n",
       "    </tr>\n",
       "    <tr>\n",
       "      <th>3</th>\n",
       "      <td>현장평균도착시간</td>\n",
       "      <td>4분28초</td>\n",
       "      <td>3분53초</td>\n",
       "      <td>3분34초</td>\n",
       "      <td>4분 32초</td>\n",
       "      <td>3분 55초</td>\n",
       "      <td>5분 09초</td>\n",
       "      <td>5분 14초</td>\n",
       "      <td>5분 21초</td>\n",
       "      <td>5분 20초</td>\n",
       "      <td>5분 21초</td>\n",
       "      <td>5분6초</td>\n",
       "      <td>4분58초</td>\n",
       "    </tr>\n",
       "  </tbody>\n",
       "</table>\n",
       "</div>"
      ],
      "text/plain": [
       "        연도별   2010   2011   2012    2013    2014    2015    2016    2017  \\\n",
       "0    신고접수건수   8564   9951  11772   19115   18778   19104   19567   18953   \n",
       "1    증감율(%)    9.9   16.2   18.3    62.4    -1.8     1.7     2.4    -3.1   \n",
       "2    총 출동건수   6751   7116   7882    9344   10387   10719   10701   10539   \n",
       "3  현장평균도착시간  4분28초  3분53초  3분34초  4분 32초  3분 55초  5분 09초  5분 14초  5분 21초   \n",
       "\n",
       "     2018    2019   2020   2021  \n",
       "0   18730   18976  18296  18710  \n",
       "1    -1.2     1.3   -3.5    2.3  \n",
       "2   10452   10703  10288  10512  \n",
       "3  5분 20초  5분 21초   5분6초  4분58초  "
      ]
     },
     "execution_count": 9,
     "metadata": {},
     "output_type": "execute_result"
    }
   ],
   "source": [
    "df1 = pd.read_excel('stat_160901.xls')\n",
    "df1"
   ]
  },
  {
   "cell_type": "code",
   "execution_count": 10,
   "id": "f14416a7",
   "metadata": {
    "scrolled": true
   },
   "outputs": [
    {
     "data": {
      "text/html": [
       "<div>\n",
       "<style scoped>\n",
       "    .dataframe tbody tr th:only-of-type {\n",
       "        vertical-align: middle;\n",
       "    }\n",
       "\n",
       "    .dataframe tbody tr th {\n",
       "        vertical-align: top;\n",
       "    }\n",
       "\n",
       "    .dataframe thead th {\n",
       "        text-align: right;\n",
       "    }\n",
       "</style>\n",
       "<table border=\"1\" class=\"dataframe\">\n",
       "  <thead>\n",
       "    <tr style=\"text-align: right;\">\n",
       "      <th></th>\n",
       "      <th>연도별</th>\n",
       "      <th>2010</th>\n",
       "      <th>2011</th>\n",
       "      <th>2012</th>\n",
       "      <th>2013</th>\n",
       "      <th>2014</th>\n",
       "      <th>2015</th>\n",
       "      <th>2016</th>\n",
       "      <th>2017</th>\n",
       "      <th>2018</th>\n",
       "      <th>2019</th>\n",
       "      <th>2020</th>\n",
       "      <th>2021</th>\n",
       "    </tr>\n",
       "  </thead>\n",
       "  <tbody>\n",
       "    <tr>\n",
       "      <th>0</th>\n",
       "      <td>신고접수건수</td>\n",
       "      <td>8564</td>\n",
       "      <td>9951</td>\n",
       "      <td>11772</td>\n",
       "      <td>19115</td>\n",
       "      <td>18778</td>\n",
       "      <td>19104</td>\n",
       "      <td>19567</td>\n",
       "      <td>18953</td>\n",
       "      <td>18730</td>\n",
       "      <td>18976</td>\n",
       "      <td>18296</td>\n",
       "      <td>18710</td>\n",
       "    </tr>\n",
       "    <tr>\n",
       "      <th>2</th>\n",
       "      <td>총 출동건수</td>\n",
       "      <td>6751</td>\n",
       "      <td>7116</td>\n",
       "      <td>7882</td>\n",
       "      <td>9344</td>\n",
       "      <td>10387</td>\n",
       "      <td>10719</td>\n",
       "      <td>10701</td>\n",
       "      <td>10539</td>\n",
       "      <td>10452</td>\n",
       "      <td>10703</td>\n",
       "      <td>10288</td>\n",
       "      <td>10512</td>\n",
       "    </tr>\n",
       "    <tr>\n",
       "      <th>3</th>\n",
       "      <td>현장평균도착시간</td>\n",
       "      <td>4분28초</td>\n",
       "      <td>3분53초</td>\n",
       "      <td>3분34초</td>\n",
       "      <td>4분 32초</td>\n",
       "      <td>3분 55초</td>\n",
       "      <td>5분 09초</td>\n",
       "      <td>5분 14초</td>\n",
       "      <td>5분 21초</td>\n",
       "      <td>5분 20초</td>\n",
       "      <td>5분 21초</td>\n",
       "      <td>5분6초</td>\n",
       "      <td>4분58초</td>\n",
       "    </tr>\n",
       "  </tbody>\n",
       "</table>\n",
       "</div>"
      ],
      "text/plain": [
       "        연도별   2010   2011   2012    2013    2014    2015    2016    2017  \\\n",
       "0    신고접수건수   8564   9951  11772   19115   18778   19104   19567   18953   \n",
       "2    총 출동건수   6751   7116   7882    9344   10387   10719   10701   10539   \n",
       "3  현장평균도착시간  4분28초  3분53초  3분34초  4분 32초  3분 55초  5분 09초  5분 14초  5분 21초   \n",
       "\n",
       "     2018    2019   2020   2021  \n",
       "0   18730   18976  18296  18710  \n",
       "2   10452   10703  10288  10512  \n",
       "3  5분 20초  5분 21초   5분6초  4분58초  "
      ]
     },
     "execution_count": 10,
     "metadata": {},
     "output_type": "execute_result"
    }
   ],
   "source": [
    "df2 = df1.T\n",
    "df2 = df2.filter([0,2,3])\n",
    "df2 = df2.T\n",
    "df2"
   ]
  },
  {
   "cell_type": "code",
   "execution_count": 11,
   "id": "566e7a00",
   "metadata": {},
   "outputs": [],
   "source": [
    "x = df2.columns[1:]\n",
    "y = df2.iloc[0][1:]\n",
    "y1 = df2.iloc[1][1:]"
   ]
  },
  {
   "cell_type": "code",
   "execution_count": 12,
   "id": "d71623de",
   "metadata": {},
   "outputs": [],
   "source": [
    "y = list(y.values)\n",
    "y1 = list(y1.values)"
   ]
  },
  {
   "cell_type": "code",
   "execution_count": 13,
   "id": "b74f45fa",
   "metadata": {},
   "outputs": [
    {
     "data": {
      "text/plain": [
       "Text(0, 0.5, '접수건수')"
      ]
     },
     "execution_count": 13,
     "metadata": {},
     "output_type": "execute_result"
    },
    {
     "data": {
      "image/png": "[encoded data removed]",
      "text/plain": [
       "<Figure size 640x480 with 1 Axes>"
      ]
     },
     "metadata": {},
     "output_type": "display_data"
    }
   ],
   "source": [
    "plt.bar(x,y,color = '#17becf',label='신고 접수 건수')\n",
    "plt.plot(x,y1,color ='r',label = '총 출동 건수')\n",
    "plt.legend()\n",
    "plt.xlabel('연도별')\n",
    "plt.ylabel('접수건수')"
   ]
  },
  {
   "cell_type": "code",
   "execution_count": 14,
   "id": "a13f9f5f",
   "metadata": {
    "scrolled": true
   },
   "outputs": [
    {
     "data": {
      "text/html": [
       "<div>\n",
       "<style scoped>\n",
       "    .dataframe tbody tr th:only-of-type {\n",
       "        vertical-align: middle;\n",
       "    }\n",
       "\n",
       "    .dataframe tbody tr th {\n",
       "        vertical-align: top;\n",
       "    }\n",
       "\n",
       "    .dataframe thead th {\n",
       "        text-align: right;\n",
       "    }\n",
       "</style>\n",
       "<table border=\"1\" class=\"dataframe\">\n",
       "  <thead>\n",
       "    <tr style=\"text-align: right;\">\n",
       "      <th></th>\n",
       "      <th>0</th>\n",
       "      <th>2</th>\n",
       "      <th>3</th>\n",
       "    </tr>\n",
       "  </thead>\n",
       "  <tbody>\n",
       "  </tbody>\n",
       "</table>\n",
       "</div>"
      ],
      "text/plain": [
       "Empty DataFrame\n",
       "Columns: [0, 2, 3]\n",
       "Index: []"
      ]
     },
     "execution_count": 14,
     "metadata": {},
     "output_type": "execute_result"
    }
   ],
   "source": [
    "df5 = df2\n",
    "df5.filter([3]).T"
   ]
  },
  {
   "cell_type": "code",
   "execution_count": null,
   "id": "ffd1b09d",
   "metadata": {},
   "outputs": [],
   "source": []
  }
 ],
 "metadata": {
  "kernelspec": {
   "display_name": "Python 3 (ipykernel)",
   "language": "python",
   "name": "python3"
  },
  "language_info": {
   "codemirror_mode": {
    "name": "ipython",
    "version": 3
   },
   "file_extension": ".py",
   "mimetype": "text/x-python",
   "name": "python",
   "nbconvert_exporter": "python",
   "pygments_lexer": "ipython3",
   "version": "3.9.10"
  }
 },
 "nbformat": 4,
 "nbformat_minor": 5
}
